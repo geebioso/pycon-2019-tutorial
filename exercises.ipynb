{
 "cells": [
  {
   "cell_type": "markdown",
   "metadata": {},
   "source": [
    "# PyCon 2019: Data Science Best Practices with pandas\n",
    "\n",
    "## GitHub repository: http://bit.ly/pycon2019\n",
    "\n",
    "### While you're waiting...\n",
    "\n",
    "1. Download the CSV file from GitHub\n",
    "2. Open your Python environment\n",
    "3. Move the file into the same directory as your script or notebook\n",
    "4. Read the file into pandas (using `read_csv`)\n",
    "5. Read about the dataset\n",
    "\n",
    "### Instructor: Kevin Markham\n",
    "\n",
    "- Website: https://www.dataschool.io\n",
    "- YouTube: https://www.youtube.com/dataschool\n",
    "- Patreon: https://www.patreon.com/dataschool\n",
    "- Twitter: https://twitter.com/justmarkham\n",
    "- GitHub: https://github.com/justmarkham"
   ]
  },
  {
   "cell_type": "markdown",
   "metadata": {},
   "source": [
    "# 1. Introduction to Dataset\n",
    "a) Load and explore the dataset     \n"
   ]
  },
  {
   "cell_type": "code",
   "execution_count": 6,
   "metadata": {},
   "outputs": [],
   "source": []
  },
  {
   "cell_type": "markdown",
   "metadata": {},
   "source": [
    "# 2. Which talks provoke the most online discussion?\n",
    "\n",
    "1. Consider data limitations \n",
    "2. Make results understandable "
   ]
  },
  {
   "cell_type": "code",
   "execution_count": null,
   "metadata": {},
   "outputs": [],
   "source": []
  },
  {
   "cell_type": "markdown",
   "metadata": {},
   "source": [
    "# 3. Visualize the distribution of comments\n",
    "1. Choose plot type based on question and type of data\n",
    "2. Use pandas one-liners to go through plots quickly \n",
    "3. Modify plot defaults "
   ]
  },
  {
   "cell_type": "code",
   "execution_count": null,
   "metadata": {},
   "outputs": [],
   "source": []
  },
  {
   "cell_type": "markdown",
   "metadata": {},
   "source": [
    "# 4. Plot the number of talks that took place each year \n",
    "1. Read the documentation \n",
    "2. Use the datetime data type for dates and time - pandas has extensive datetime functionality \n",
    "3. Check your work as you go\n",
    "4. Consider excluding data if itmight not be relevant "
   ]
  },
  {
   "cell_type": "code",
   "execution_count": null,
   "metadata": {},
   "outputs": [],
   "source": []
  },
  {
   "cell_type": "markdown",
   "metadata": {},
   "source": [
    "# 5. What were the best events in TED history to attend? \n",
    "1. Think creatively about the data you have to answer your question. Consider weaknesses of your approach\n",
    "2. Watch out for small sample sizes "
   ]
  },
  {
   "cell_type": "code",
   "execution_count": null,
   "metadata": {},
   "outputs": [],
   "source": []
  },
  {
   "cell_type": "markdown",
   "metadata": {},
   "source": [
    "# 6. Unpack the ratings data \n",
    "1. Pay attention to data types in pandas \n",
    "2. Use apply when it's necessary (use last rather than first)"
   ]
  },
  {
   "cell_type": "code",
   "execution_count": null,
   "metadata": {},
   "outputs": [],
   "source": []
  },
  {
   "cell_type": "markdown",
   "metadata": {},
   "source": [
    "# 7. Count the total number of ratings received by each talk \n",
    "\n",
    "## a) for each column count percentage of ratings that are negative    \n",
    "## b) calculate average number of ratings it received per day since publishing     \n",
    "\n",
    "1) Write code in small chunks    \n",
    "2) Lambda is best for small functions     "
   ]
  },
  {
   "cell_type": "code",
   "execution_count": null,
   "metadata": {},
   "outputs": [],
   "source": []
  },
  {
   "cell_type": "markdown",
   "metadata": {},
   "source": [
    "# 8. Which occupations deliver the funniest TED talks on average \n",
    "1) Check data assumptions     \n",
    "2) Check whether results are reasonable****     \n",
    "3) Take advantage of the fact that pandas operations often output data frame or series     \n",
    "4) Watch out for small sample sizes       \n",
    "5) Consider missing data      \n",
    "6) Data scientists are hilarious     "
   ]
  },
  {
   "cell_type": "code",
   "execution_count": null,
   "metadata": {},
   "outputs": [],
   "source": []
  }
 ],
 "metadata": {
  "kernelspec": {
   "display_name": "Python 3",
   "language": "python",
   "name": "python3"
  },
  "language_info": {
   "codemirror_mode": {
    "name": "ipython",
    "version": 3
   },
   "file_extension": ".py",
   "mimetype": "text/x-python",
   "name": "python",
   "nbconvert_exporter": "python",
   "pygments_lexer": "ipython3",
   "version": "3.7.1"
  }
 },
 "nbformat": 4,
 "nbformat_minor": 2
}
